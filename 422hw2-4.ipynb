{
 "cells": [
  {
   "cell_type": "code",
   "execution_count": 1,
   "id": "encouraging-jaguar",
   "metadata": {},
   "outputs": [],
   "source": [
    "from bs4 import BeautifulSoup\n",
    "import requests"
   ]
  },
  {
   "cell_type": "code",
   "execution_count": 3,
   "id": "tropical-canyon",
   "metadata": {},
   "outputs": [
    {
     "name": "stdout",
     "output_type": "stream",
     "text": [
      "Prime location\n",
      "Unlock your potential in our prime location in San Francisco and access to the Silicon Valley—the world hub of innovation.\n"
     ]
    }
   ],
   "source": [
    "def main():\n",
    "    try:\n",
    "        url= \"https://gsm.ucdavis.edu/master-science-business-analytics-msba\"\n",
    "        page = requests.get(url)\n",
    "        # Create a beautifulsoup object\n",
    "        soup = BeautifulSoup(page.text, 'html.parser')\n",
    "        # find <p> that immediately follows <div> of class \"col-md-6.\n",
    "        list_of_contents = soup.select(\"div.col-md-6 > h4\")\n",
    "        for i in list_of_contents:\n",
    "            if i.text.startswith('Prime'):\n",
    "                print(i.text)\n",
    "        list_of_contents = soup.select(\"div.col-md-6 > p\")\n",
    "        for b in list_of_contents:\n",
    "            if b.text.startswith('Unlock'):\n",
    "                print(b.text)\n",
    "\n",
    "    except Exception as e:\n",
    "        print(e)\n",
    "if __name__ == '__main__':\n",
    "    main()"
   ]
  },
  {
   "cell_type": "code",
   "execution_count": 4,
   "id": "boxed-worker",
   "metadata": {},
   "outputs": [
    {
     "name": "stdout",
     "output_type": "stream",
     "text": [
      "\n",
      "\n",
      "\n",
      "\n",
      "Your Community\n",
      "Class of 2020-21\n",
      "\n",
      "\n",
      "\n",
      "\n",
      "50\n",
      "Number of Incoming Students\n",
      "\n",
      "\n",
      "3\n",
      "Average Years of Work Experience\n",
      "\n",
      "\n",
      "26\n",
      "Average Age\n",
      "\n",
      "\n",
      "\n",
      "\n",
      "165\n",
      "Average GRE Quant Score\n",
      "\n",
      "\n",
      "3.4\n",
      "Average Undergraduate GPA\n",
      "\n",
      "\n",
      "\n",
      "\n"
     ]
    }
   ],
   "source": [
    "def main():\n",
    "    try:\n",
    "        url= \"https://gsm.ucdavis.edu/master-science-business-analytics-msba\"\n",
    "        page = requests.get(url)\n",
    "        soup = BeautifulSoup(page.text, 'html.parser')\n",
    "        list_of_contents_2 = soup.find_all(\"div\", {\"class\":\"py-3 solid-blue-bkg text-white\"})\n",
    "        for div in list_of_contents_2:\n",
    "            print(div.text)\n",
    "    except Exception as e:\n",
    "        print(e)\n",
    "\n",
    "if __name__ == '__main__':\n",
    "    main()"
   ]
  },
  {
   "cell_type": "code",
   "execution_count": 13,
   "id": "promising-memphis",
   "metadata": {},
   "outputs": [
    {
     "name": "stdout",
     "output_type": "stream",
     "text": [
      "\n",
      "$334.90\n",
      "\n"
     ]
    }
   ],
   "source": [
    "def main():\n",
    "    try:\n",
    "        headers = {\"User-Agent\":\"Mozilla/5.0 (Windows NT 10.0; Win64; x64; rv:66.0) Gecko/20100101 Firefox/66.0\", \"Upgrade-Insecure-Requests\":\"1\"}\n",
    "        page = requests.get(\"https://www.amazon.com/dp/B07SPFPKF4\", headers=headers)\n",
    "        # Create a beautifulsoup object\n",
    "        soup = BeautifulSoup(page.text, 'lxml')\n",
    "        find_price = soup.select('#price_inside_buybox')\n",
    "        for item in find_price:\n",
    "            print(item.text)\n",
    "\n",
    "\n",
    "    except Exception as e:\n",
    "        print(e)\n",
    "\n",
    "if __name__ == '__main__':\n",
    "    main()"
   ]
  },
  {
   "cell_type": "code",
   "execution_count": null,
   "id": "directed-fever",
   "metadata": {},
   "outputs": [],
   "source": []
  }
 ],
 "metadata": {
  "kernelspec": {
   "display_name": "Python 3",
   "language": "python",
   "name": "python3"
  },
  "language_info": {
   "codemirror_mode": {
    "name": "ipython",
    "version": 3
   },
   "file_extension": ".py",
   "mimetype": "text/x-python",
   "name": "python",
   "nbconvert_exporter": "python",
   "pygments_lexer": "ipython3",
   "version": "3.8.3"
  }
 },
 "nbformat": 4,
 "nbformat_minor": 5
}
